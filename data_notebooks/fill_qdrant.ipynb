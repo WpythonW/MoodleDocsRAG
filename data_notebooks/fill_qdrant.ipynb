{
 "cells": [
  {
   "cell_type": "code",
   "execution_count": null,
   "id": "f1b39867",
   "metadata": {},
   "outputs": [
    {
     "data": {
      "text/plain": [
       "{'answer': 'This service is about managing appointments in Moodle, including creating, editing, and reporting on appointments. It allows instructors to schedule and manage sessions, set capacity limits, and track attendance. Users can also view and manage their own appointments and those of others. The service includes features for customizing appointment details and integrating with third-party email systems for notifications.',\n",
       " 'context': QueryResponse(points=[ScoredPoint(id=387, version=0, score=2.3333333, payload={'text': \"##Choice settings\\n\\n###\\nThis page explores in more detail the settings for the Choice activity once you have added it to your course and also covers the Site administration settings.\\nNote that if you want to edit an existing choice, click the Edit link to its right and choose the action you wish to take, e.g. 'Edit settings'.\\n\\n\\n===SECTION_BREAK===\\n\\n###General\\nIn the Description, ask the question or make the statement from which students must make a choice. Check the box if you want these instructions to display on the course page.\\nDisplay mode for the options relates to the display of the results. If you have only a few choices, choose to display the results horizontally; if you have a large number, choose to display them vertically.\", 'urls': 'https://docs.moodle.org/403/en/Adding/editing_a_choice'}, vector=None, shard_key=None, order_value=None), ScoredPoint(id=333, version=0, score=1.4761904, payload={'text': '##Course enrolment\\n\\n===SECTION_BREAK===', 'urls': 'https://docs.moodle.org/403/en/Add_students'}, vector=None, shard_key=None, order_value=None), ScoredPoint(id=628, version=1, score=0.70035356, payload={'text': '##Adding question types to lesson\\n\\n===SECTION_BREAK===', 'urls': 'https://docs.moodle.org/403/en/Adding_question_types_to_lesson'}, vector=None, shard_key=None, order_value=None), ScoredPoint(id=549, version=1, score=0.6852183, payload={'text': '##Building Feedback\\n\\n(1) Multiple choice single answer. This will give you a series of radio buttons, which starts on \\'Not selected\\' and then has your options afterwards. Only one can be chosen and \\'Not selected\\' is a valid answer if the question is not set to \\'required\\'.\\n(2) Multiple choice, multiple answers\\n(3) Multiple choice - single answer allowed (dropdown list)  This type will give you a dropdown list from which only one answer can be selected.\\nThis is similar to the Multiple Choice question type, except that each option has a numerical value associated with it. You have the choice of using radio buttons or a drop-down list to display the answers.\\nSay you have the following question:\\nI love it I like it It\\'s OK I don\\'t like it I hate it\\nIt isn\\'t possible to compute an \"average\" score from the responses chosen by multiple participants.', 'urls': 'https://docs.moodle.org/403/en/Adding_Feedback_questions'}, vector=None, shard_key=None, order_value=None), ScoredPoint(id=682, version=1, score=0.6815998, payload={'text': '##Admin tools\\n\\n###What kind of technical skills do I need to take on Moodle Administration?\\nReading and writing are handy skills, and probably the most useful. This is something of a loaded question, and the answer is actually, depends on what you want to do, and what skills you already have.', 'urls': 'https://docs.moodle.org/403/en/Admin_tools'}, vector=None, shard_key=None, order_value=None), ScoredPoint(id=915, version=1, score=0.67414534, payload={'text': \"##Appointments\\n\\nGeneral Name and Description : standard Moodle fields Third-party email address(es) (optional): Specify users' email addresses, such as an external instructor, who will then receive notification messages whenever a user signs up for or cancels a session. Multiple email addresses have to be separated by a comma. Notify third-party about wait-listed sessions : If checked, third-parties will be notified when a user signs up for a wait-listed session. If unchecked (default), third-parties will only receive notification messages whenever a user signs up for or cancels a scheduled session. Allow cancelling default : If checked, the default setting, when creating new sessions for this activity, will be to allow sign-up cancellations. Calendar options Calendar display settings : Site : Sessions will be displayed on the site calendar as a global event. All site users will be able to view session details. Course : Sessions will be displayed on the course calendar as a course event\", 'urls': 'https://docs.moodle.org/403/en/Appointments'}, vector=None, shard_key=None, order_value=None), ScoredPoint(id=700, version=1, score=0.5590278, payload={'text': \"##Administration FAQ\\n\\n===SECTION_BREAK===\\n\\n###Logging in and out\\nUser login sessions are checked to see if the user is still active, and will log them out after a specific period of idleness. This is set in Site administration > Server > Session handling > Timeout . The default is two hours. Increase it if you need to.\\nYour site's config.php file probably has extra lines after ?> . Solution is to delete the last ?> .\\nThis is by design. After using the 'Login as' function, for security reasons you are automatically logged out of Moodle when you return to your normal role. If you login again you will be redirected to the page that you were on previously.\", 'urls': 'https://docs.moodle.org/403/en/Administration_FAQ'}, vector=None, shard_key=None, order_value=None), ScoredPoint(id=405, version=0, score=0.55795455, payload={'text': '##Feedback settings\\n\\n===SECTION_BREAK===\\n\\n###Other settings\\nDepending on what is enabled for your site and course, you may also need to explore Common module settings , Restrict access , Activity completion , Tags and Competencies', 'urls': 'https://docs.moodle.org/403/en/Adding/editing_a_feedback_form'}, vector=None, shard_key=None, order_value=None), ScoredPoint(id=329, version=0, score=0.48863637, payload={'text': '##Edit profile\\n\\n===SECTION_BREAK===\\n\\n###Interests\\nUse tags here to display your interests on your profile page.\\nThere are several optional fields allowing you to add further details to your profile such as contact details and your website.\\nIf any custom user profile categories and fields have been created on your Moodle site, they will be listed at the bottom of the Admin >Accounts>User profile fields\\n\\n\\n===SECTION_BREAK===\\n\\n###Updating a user profile\\nUsers with the capability moodle/user:update are able to update another user\\'s profile i.e. in addition to being able to edit the profile, other settings such as password, authentication method and force new password may be changed. The username cannot be changed if it has been set by an authentication plugin, such as LDAP .\\n\\n\\n===SECTION_BREAK===\\n\\n###Account disabling\\nAn account may be disabled by setting the authentication method to \" No login \". The account email may not be used to create another account.', 'urls': 'https://docs.moodle.org/403/en/Add_new_user'}, vector=None, shard_key=None, order_value=None), ScoredPoint(id=283, version=0, score=0.36358544, payload={'text': '##Add/edit certificate module\\n\\nA Watermark file can be placed in the background of a Certificate. A Watermark could be a specific logo, seal, crest etc. By default two Watermark Images are included, a sample school crest and a Fleur de lis .\\nThis option allows you to print a digital signature or print a line for a written signature on the Certificate.\\nThis option allows you to select a seal or logo to print on the Certificate from a repository of options. By default five seal images and an example logo image are available.', 'urls': 'https://docs.moodle.org/403/en/Add/edit_certificate_module'}, vector=None, shard_key=None, order_value=None), ScoredPoint(id=32, version=0, score=0.31125543, payload={'text': '##AMOS manual\\n\\n===SECTION_BREAK===\\n\\n###Translation workflow\\nThe following data flow diagram illustrates how AMOS tools are used during the translation process.', 'urls': 'https://docs.moodle.org/403/en/AMOS'}, vector=None, shard_key=None, order_value=None), ScoredPoint(id=936, version=1, score=0.29934642, payload={'text': \"##Appointments\\n\\n###Appointment Reporting\\nMoodle Workplace's report builder provides a report source called Appointments . Once added, the following fields are available:\\nAppointment Name Description Appointment session Description Capacity Allow waitlisting (Yes / No) Allow cancelling (Yes / No) Seats booked Booked / Capacity Session status (Open / Session in progress / Finished / Full) Custom fields Appointment session dates Session start date Session start time Session end date Attendees Status (User cancelled / Wait-listed / Booked / No show / Partially attended / Fully attended)\\nName Description\\nDescription Capacity Allow waitlisting (Yes / No) Allow cancelling (Yes / No) Seats booked Booked / Capacity Session status (Open / Session in progress / Finished / Full) Custom fields\\nSession start date Session start time Session end date\\nStatus (User cancelled / Wait-listed / Booked / No show / Partially attended / Fully attended)\\nThere are two additional filters / conditions:\", 'urls': 'https://docs.moodle.org/403/en/Appointments'}, vector=None, shard_key=None, order_value=None), ScoredPoint(id=924, version=1, score=0.29347825, payload={'text': \"##Appointments\\n\\nTo add a single appointment, select Appointment from the Add menu at the top right. You will see a pop-up screen where the first section deals with sessions. A session is created automatically with the following default values:\\nDate : Today's date Start time : The next full hour End time : 1 hour after the start time\\nYou will need to adjust these three values to the date and times of your actual session. You can add more sessions via the Add session button.\", 'urls': 'https://docs.moodle.org/403/en/Appointments'}, vector=None, shard_key=None, order_value=None), ScoredPoint(id=485, version=0, score=0.2919173, payload={'text': \"##Survey settings\\n\\n###\\nNote: Survey is due to be removed from standard Moodle. See the discussion Survey Tool Deprecation .\\nNote: Moodle's Survey activity uses pre-made questions. If you wish to create your own questions, use the Feedback module or contributed Questionnaire module or Surveypro module .\\nThis page explores in more detail the settings for the Survey activity once you have added it to your course and also covers the Site administration settings.\\nNote that if you want to edit an existing survey, click the Edit link to its right and choose the action you wish to take, e.g. 'Edit settings'\", 'urls': 'https://docs.moodle.org/403/en/Adding/editing_a_survey'}, vector=None, shard_key=None, order_value=None), ScoredPoint(id=381, version=0, score=0.25692797, payload={'text': \"##Chat settings\\n\\n===SECTION_BREAK===\\n\\n###Chat sessions\\n' Note: For courses involving users across different time zones, the time  set here will be adjusted to match the time zone of the user viewing it as long as they have set their local time in their profile.\\nDon't publish any chat times - there are no set times and students are welcome to chat at any time. No repeats - publish the specified time only - only  the Next chat  time will be published.  This could be used to schedule special events or meetings or simply to help learners identify a common time in which they can expect to find other learners in the chat room. At the same time every day - Daily chats are useful for scheduling daily office hours or work sessions with learners. At the same time every week --This setting will  schedule a chat for the same day and time every week, which could be useful for instance for meeting and reviewing key ideas and questions related to the week's content/assessment.\", 'urls': 'https://docs.moodle.org/403/en/Adding/editing_a_chat'}, vector=None, shard_key=None, order_value=None), ScoredPoint(id=764, version=1, score=0.252961, payload={'text': '##Advanced grading methods\\n\\n===SECTION_BREAK===\\n\\n###Configuring an activity module to use advanced grading methods\\nChoosing the grading method in the activity settings form.\\nChoosing the grading method in the activity settings form.\\nChoosing the grading method in the activity settings form.', 'urls': 'https://docs.moodle.org/403/en/Advanced_grading_methods'}, vector=None, shard_key=None, order_value=None), ScoredPoint(id=1, version=0, score=0.2501634, payload={'text': '##2D/3D structure display short answer\\n\\n===SECTION_BREAK===\\n\\n###Authors\\nThis plugin was developed at the Indiana University of Pennsylvania (IUP).  Neither IUP nor Carl LeBlond are affiliated with Chemaxon.\\n\\n\\n===SECTION_BREAK===\\n\\n###Requirements\\nThis plugin requires Marvin Applets from Chemaxon which can be downloaded from Vhttp://www.chemaxon.com/download/marvin-suite/#mapplets .  Download the full package and install it at your web servers root directory.\\n\\n\\n===SECTION_BREAK===\\n\\n###Examples\\nExample questions are provided as a Moodle xml file in the examples folder. (coming soon)', 'urls': 'https://docs.moodle.org/403/en/2D/3D_structure_display_short_answer'}, vector=None, shard_key=None, order_value=None), ScoredPoint(id=385, version=0, score=0.245406, payload={'text': '##Chat settings\\n\\nThe particular settings for this method are: Refresh room - choose the number of seconds after which the room is refreshed Update method - choose how to update the chatroom - \"Keep alive\" or \"Stream\" strategy. Stream works better but your sever might not support it.\\nRefresh room - choose the number of seconds after which the room is refreshed Update method - choose how to update the chatroom - \"Keep alive\" or \"Stream\" strategy. Stream works better but your sever might not support it.\\nA daemon is a program that runs all the time in the background. In this case it\\'s a PHP script, listening to a particular port on your server, accepting and giving out chat information.If you intend to use the chat activity a lot, then you should consider using a chat server daemon to reduce server load.Its particular settings are: Server name Server IP address Server port Max users\\nServer name Server IP address Server port Max users\\nThen you need to start the chat daemon script from the command line:', 'urls': 'https://docs.moodle.org/403/en/Adding/editing_a_chat'}, vector=None, shard_key=None, order_value=None), ScoredPoint(id=289, version=0, score=0.24354067, payload={'text': \"##Course categories\\n\\n===SECTION_BREAK===\\n\\n###Editing or moving a category\\nYou can edit the details of a course category by clicking the actions icon next to its name in Administration>Site administration>Courses>Manage courses and categories. and selecting 'Edit'. You can move categories up or down by clicking the up/down arrow next to the category you wish to move. You can bulk move categories by checking the box to the left of their name and then by selecting from the dropdown 'Move selected categories to'\", 'urls': 'https://docs.moodle.org/403/en/Add/edit_course_categories'}, vector=None, shard_key=None, order_value=None), ScoredPoint(id=521, version=1, score=0.23571429, payload={'text': '##Workshop settings\\n\\n###Grading settings\\nAccumulative grading: Each assessment criterion has its own numeric grade along with optional weighting and optional comments; a final grade is calculated on the basis of the separate grades and their respective weightings.\\nComments: No numeric grade but feedback only, as comments either in a single field or as responses to a series of guiding questions.\\nNumber of Errors: Markers decide whether the work has passed or failed each criterion (e.g. has original ideas; answers its question). They can comment on their judgements.', 'urls': 'https://docs.moodle.org/403/en/Adding/updating_Workshop'}, vector=None, shard_key=None, order_value=None)])}"
      ]
     },
     "execution_count": 2,
     "metadata": {},
     "output_type": "execute_result"
    }
   ],
   "source": [
    "from qdrant_client.http.models import (\n",
    "    PointStruct, VectorParams, Distance, PayloadSchemaType\n",
    ")\n",
    "from qdrant_client.http.models import TextIndexParams, TokenizerType\n",
    "\n",
    "from qdrant_client import QdrantClient, models\n",
    "\n",
    "import numpy as np\n",
    "import pandas as pd\n",
    "import sys, json\n",
    "from pathlib import Path\n",
    "from qdrant_client.http.models import TextIndexParams\n",
    "from more_itertools import batched\n",
    "from tqdm.notebook import tqdm\n",
    "\n",
    "sys.path.append(str(Path.cwd().parent))\n",
    "from app import gen_queries, embed, rag_pipeline\n",
    "from config import LLM_NAME, ENCODER_NAME, COLLECTION_NAME, LLM_PORT, ENCODER_PORT, QDRANT_PORT\n",
    "\n",
    "from openai import OpenAI\n",
    "\n",
    "openai_api_key = \"EMPTY\"\n",
    "openai_api_base = f\"http://localhost:{ENCODER_PORT}/v1\"\n",
    "\n",
    "client = OpenAI(\n",
    "    api_key=openai_api_key,\n",
    "    base_url=openai_api_base,\n",
    "    timeout=10000\n",
    ")\n",
    "\n",
    "client = QdrantClient(host=\"localhost\", port=QDRANT_PORT, check_compatibility=False, timeout=1000)\n",
    "Docs_Dense = \"Docs_Dense\"\n",
    "\n",
    "await rag_pipeline('what is this service about')"
   ]
  },
  {
   "cell_type": "markdown",
   "id": "ba18362b",
   "metadata": {},
   "source": [
    "# Создание индекса qudrant"
   ]
  },
  {
   "cell_type": "code",
   "execution_count": 7,
   "id": "4ac60390",
   "metadata": {},
   "outputs": [
    {
     "data": {
      "text/html": [
       "<div>\n",
       "<style scoped>\n",
       "    .dataframe tbody tr th:only-of-type {\n",
       "        vertical-align: middle;\n",
       "    }\n",
       "\n",
       "    .dataframe tbody tr th {\n",
       "        vertical-align: top;\n",
       "    }\n",
       "\n",
       "    .dataframe thead th {\n",
       "        text-align: right;\n",
       "    }\n",
       "</style>\n",
       "<table border=\"1\" class=\"dataframe\">\n",
       "  <thead>\n",
       "    <tr style=\"text-align: right;\">\n",
       "      <th></th>\n",
       "      <th>url</th>\n",
       "      <th>text</th>\n",
       "      <th>lengths</th>\n",
       "    </tr>\n",
       "  </thead>\n",
       "  <tbody>\n",
       "    <tr>\n",
       "      <th>0</th>\n",
       "      <td>https://docs.moodle.org/403/en/2D/3D_structure...</td>\n",
       "      <td>##2D/3D structure display short answer\\n\\n###O...</td>\n",
       "      <td>983</td>\n",
       "    </tr>\n",
       "    <tr>\n",
       "      <th>1</th>\n",
       "      <td>https://docs.moodle.org/403/en/2D/3D_structure...</td>\n",
       "      <td>##2D/3D structure display short answer\\n\\n===S...</td>\n",
       "      <td>586</td>\n",
       "    </tr>\n",
       "    <tr>\n",
       "      <th>2</th>\n",
       "      <td>https://docs.moodle.org/403/en/360-degree_feed...</td>\n",
       "      <td>##360-degree feedback module\\n\\n###\\nA simple ...</td>\n",
       "      <td>363</td>\n",
       "    </tr>\n",
       "    <tr>\n",
       "      <th>3</th>\n",
       "      <td>https://docs.moodle.org/403/en/360-degree_feed...</td>\n",
       "      <td>##360-degree feedback module\\n\\n===SECTION_BRE...</td>\n",
       "      <td>49</td>\n",
       "    </tr>\n",
       "    <tr>\n",
       "      <th>4</th>\n",
       "      <td>https://docs.moodle.org/403/en/360-degree_feed...</td>\n",
       "      <td>##360-degree feedback module\\n\\n###Activity co...</td>\n",
       "      <td>821</td>\n",
       "    </tr>\n",
       "    <tr>\n",
       "      <th>...</th>\n",
       "      <td>...</td>\n",
       "      <td>...</td>\n",
       "      <td>...</td>\n",
       "    </tr>\n",
       "    <tr>\n",
       "      <th>14274</th>\n",
       "      <td>https://docs.moodle.org/403/en/wikindx</td>\n",
       "      <td>##Wikindx\\n\\n===SECTION_BREAK===</td>\n",
       "      <td>30</td>\n",
       "    </tr>\n",
       "    <tr>\n",
       "      <th>14275</th>\n",
       "      <td>https://docs.moodle.org/403/en/wikindx</td>\n",
       "      <td>##Wikindx\\n\\n###Outline thoughts on integratio...</td>\n",
       "      <td>453</td>\n",
       "    </tr>\n",
       "    <tr>\n",
       "      <th>14276</th>\n",
       "      <td>https://docs.moodle.org/403/en/wikindx</td>\n",
       "      <td>##Wikindx\\n\\n2. Another issue is how to integr...</td>\n",
       "      <td>869</td>\n",
       "    </tr>\n",
       "    <tr>\n",
       "      <th>14277</th>\n",
       "      <td>https://docs.moodle.org/403/en/wikindx</td>\n",
       "      <td>##Wikindx\\n\\n4. Mark, your remarks in 2 have g...</td>\n",
       "      <td>961</td>\n",
       "    </tr>\n",
       "    <tr>\n",
       "      <th>14278</th>\n",
       "      <td>https://docs.moodle.org/403/en/wikindx</td>\n",
       "      <td>##Wikindx\\n\\n5. Re the citation/bibliographic ...</td>\n",
       "      <td>922</td>\n",
       "    </tr>\n",
       "  </tbody>\n",
       "</table>\n",
       "<p>14279 rows × 3 columns</p>\n",
       "</div>"
      ],
      "text/plain": [
       "                                                     url  \\\n",
       "0      https://docs.moodle.org/403/en/2D/3D_structure...   \n",
       "1      https://docs.moodle.org/403/en/2D/3D_structure...   \n",
       "2      https://docs.moodle.org/403/en/360-degree_feed...   \n",
       "3      https://docs.moodle.org/403/en/360-degree_feed...   \n",
       "4      https://docs.moodle.org/403/en/360-degree_feed...   \n",
       "...                                                  ...   \n",
       "14274             https://docs.moodle.org/403/en/wikindx   \n",
       "14275             https://docs.moodle.org/403/en/wikindx   \n",
       "14276             https://docs.moodle.org/403/en/wikindx   \n",
       "14277             https://docs.moodle.org/403/en/wikindx   \n",
       "14278             https://docs.moodle.org/403/en/wikindx   \n",
       "\n",
       "                                                    text  lengths  \n",
       "0      ##2D/3D structure display short answer\\n\\n###O...      983  \n",
       "1      ##2D/3D structure display short answer\\n\\n===S...      586  \n",
       "2      ##360-degree feedback module\\n\\n###\\nA simple ...      363  \n",
       "3      ##360-degree feedback module\\n\\n===SECTION_BRE...       49  \n",
       "4      ##360-degree feedback module\\n\\n###Activity co...      821  \n",
       "...                                                  ...      ...  \n",
       "14274                   ##Wikindx\\n\\n===SECTION_BREAK===       30  \n",
       "14275  ##Wikindx\\n\\n###Outline thoughts on integratio...      453  \n",
       "14276  ##Wikindx\\n\\n2. Another issue is how to integr...      869  \n",
       "14277  ##Wikindx\\n\\n4. Mark, your remarks in 2 have g...      961  \n",
       "14278  ##Wikindx\\n\\n5. Re the citation/bibliographic ...      922  \n",
       "\n",
       "[14279 rows x 3 columns]"
      ]
     },
     "execution_count": 7,
     "metadata": {},
     "output_type": "execute_result"
    }
   ],
   "source": [
    "embs_table = pd.read_csv('../data/buffer_table.csv', index_col=0).reset_index()\n",
    "retrieve_texts = embs_table[\"text\"]\n",
    "embs_table"
   ]
  },
  {
   "cell_type": "code",
   "execution_count": null,
   "id": "467c1e09",
   "metadata": {},
   "outputs": [
    {
     "data": {
      "application/vnd.jupyter.widget-view+json": {
       "model_id": "ee9f3102461741038a13c9576def26c0",
       "version_major": 2,
       "version_minor": 0
      },
      "text/plain": [
       "Processing batches:   0%|          | 0/14 [00:00<?, ?it/s]"
      ]
     },
     "metadata": {},
     "output_type": "display_data"
    }
   ],
   "source": [
    "all_responses = []\n",
    "tests_batches = list(batched(retrieve_texts.to_list(), 1024))\n",
    "for batch in tqdm(tests_batches, desc=\"Processing batches\"):\n",
    "    responses = client.embeddings.create(\n",
    "        input=batch,\n",
    "        model=ENCODER_NAME,\n",
    "    )\n",
    "    all_responses.extend(responses.data)"
   ]
  },
  {
   "cell_type": "code",
   "execution_count": 5,
   "id": "149f848e",
   "metadata": {},
   "outputs": [],
   "source": [
    "texts = retrieve_texts.to_list()\n",
    "embeddings = list(map(lambda x: x.embedding, responses.data))\n",
    "ids = embs_table.index.to_list()\n",
    "urls = embs_table.url.to_list()"
   ]
  },
  {
   "cell_type": "code",
   "execution_count": null,
   "id": "67c9f7bb",
   "metadata": {},
   "outputs": [
    {
     "data": {
      "application/vnd.jupyter.widget-view+json": {
       "model_id": "7b1930896fc14b62a21de56eb0c91fea",
       "version_major": 2,
       "version_minor": 0
      },
      "text/plain": [
       "  0%|          | 0/2 [00:00<?, ?it/s]"
      ]
     },
     "metadata": {},
     "output_type": "display_data"
    },
    {
     "data": {
      "text/plain": [
       "CollectionsResponse(collections=[CollectionDescription(name='Docs_BM25'), CollectionDescription(name='Docs_Dense')])"
      ]
     },
     "execution_count": 8,
     "metadata": {},
     "output_type": "execute_result"
    }
   ],
   "source": [
    "if client.collection_exists(Docs_Dense):\n",
    "    client.delete_collection(Docs_Dense)\n",
    "    \n",
    "client.create_collection(\n",
    "    collection_name=Docs_Dense,\n",
    "    vectors_config=VectorParams(size=2048, distance=Distance.COSINE),\n",
    ")\n",
    "\n",
    "points = [\n",
    "    PointStruct(id=idx, vector=vec, payload={\"text\": text, \"urls\": url})\n",
    "    for idx, vec, text, url in zip(ids, embeddings, texts, urls)\n",
    "]\n",
    "\n",
    "batches = list(batched(points, 512))\n",
    "for batch in tqdm(batches):\n",
    "    client.upsert(collection_name=Docs_Dense, points=list(batch), wait=True)\n",
    "\n",
    "client.create_payload_index(\n",
    "    collection_name=Docs_Dense,\n",
    "    field_name=\"text\",\n",
    "    field_schema=TextIndexParams( \n",
    "        type=\"text\",\n",
    "        tokenizer=TokenizerType.MULTILINGUAL,\n",
    "        lowercase=True,\n",
    "        min_token_len=2,\n",
    "        max_token_len=20,\n",
    "    ),\n",
    "    wait=True\n",
    ")\n",
    "\n",
    "client.get_collections()"
   ]
  }
 ],
 "metadata": {
  "kernelspec": {
   "display_name": "MoodleBase",
   "language": "python",
   "name": "python3"
  },
  "language_info": {
   "codemirror_mode": {
    "name": "ipython",
    "version": 3
   },
   "file_extension": ".py",
   "mimetype": "text/x-python",
   "name": "python",
   "nbconvert_exporter": "python",
   "pygments_lexer": "ipython3",
   "version": "3.11.11"
  }
 },
 "nbformat": 4,
 "nbformat_minor": 5
}
