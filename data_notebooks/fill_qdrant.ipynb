{
 "cells": [
  {
   "cell_type": "code",
   "execution_count": 6,
   "id": "f1b39867",
   "metadata": {},
   "outputs": [
    {
     "data": {
      "text/plain": [
       "{'answer': 'This service is about providing detailed settings for various Moodle activities, including Choice, Building Feedback, Feedback settings, Advanced grading methods, Survey settings, and others. It covers administrative tasks such as editing existing activities, configuring appointments, managing chat settings, and adding question types to lessons. Additionally, it provides information on technical skills needed for Moodle administration and how to use specific plugins like AMOS for translation workflows.',\n",
       " 'context': QueryResponse(points=[ScoredPoint(id=387, version=0, score=2.1666667, payload={'text': \"##Choice settings\\n\\n###\\nThis page explores in more detail the settings for the Choice activity once you have added it to your course and also covers the Site administration settings.\\nNote that if you want to edit an existing choice, click the Edit link to its right and choose the action you wish to take, e.g. 'Edit settings'.\\n\\n\\n===SECTION_BREAK===\\n\\n###General\\nIn the Description, ask the question or make the statement from which students must make a choice. Check the box if you want these instructions to display on the course page.\\nDisplay mode for the options relates to the display of the results. If you have only a few choices, choose to display the results horizontally; if you have a large number, choose to display them vertically.\", 'urls': 'https://docs.moodle.org/403/en/Adding/editing_a_choice'}, vector=None, shard_key=None, order_value=None), ScoredPoint(id=333, version=0, score=2.0, payload={'text': '##Course enrolment\\n\\n===SECTION_BREAK===', 'urls': 'https://docs.moodle.org/403/en/Add_students'}, vector=None, shard_key=None, order_value=None), ScoredPoint(id=549, version=1, score=0.8650794, payload={'text': '##Building Feedback\\n\\n(1) Multiple choice single answer. This will give you a series of radio buttons, which starts on \\'Not selected\\' and then has your options afterwards. Only one can be chosen and \\'Not selected\\' is a valid answer if the question is not set to \\'required\\'.\\n(2) Multiple choice, multiple answers\\n(3) Multiple choice - single answer allowed (dropdown list)  This type will give you a dropdown list from which only one answer can be selected.\\nThis is similar to the Multiple Choice question type, except that each option has a numerical value associated with it. You have the choice of using radio buttons or a drop-down list to display the answers.\\nSay you have the following question:\\nI love it I like it It\\'s OK I don\\'t like it I hate it\\nIt isn\\'t possible to compute an \"average\" score from the responses chosen by multiple participants.', 'urls': 'https://docs.moodle.org/403/en/Adding_Feedback_questions'}, vector=None, shard_key=None, order_value=None), ScoredPoint(id=405, version=0, score=0.7720238, payload={'text': '##Feedback settings\\n\\n===SECTION_BREAK===\\n\\n###Other settings\\nDepending on what is enabled for your site and course, you may also need to explore Common module settings , Restrict access , Activity completion , Tags and Competencies', 'urls': 'https://docs.moodle.org/403/en/Adding/editing_a_feedback_form'}, vector=None, shard_key=None, order_value=None), ScoredPoint(id=682, version=1, score=0.6335229, payload={'text': '##Admin tools\\n\\n###What kind of technical skills do I need to take on Moodle Administration?\\nReading and writing are handy skills, and probably the most useful. This is something of a loaded question, and the answer is actually, depends on what you want to do, and what skills you already have.', 'urls': 'https://docs.moodle.org/403/en/Admin_tools'}, vector=None, shard_key=None, order_value=None), ScoredPoint(id=915, version=1, score=0.59751576, payload={'text': \"##Appointments\\n\\nGeneral Name and Description : standard Moodle fields Third-party email address(es) (optional): Specify users' email addresses, such as an external instructor, who will then receive notification messages whenever a user signs up for or cancels a session. Multiple email addresses have to be separated by a comma. Notify third-party about wait-listed sessions : If checked, third-parties will be notified when a user signs up for a wait-listed session. If unchecked (default), third-parties will only receive notification messages whenever a user signs up for or cancels a scheduled session. Allow cancelling default : If checked, the default setting, when creating new sessions for this activity, will be to allow sign-up cancellations. Calendar options Calendar display settings : Site : Sessions will be displayed on the site calendar as a global event. All site users will be able to view session details. Course : Sessions will be displayed on the course calendar as a course event\", 'urls': 'https://docs.moodle.org/403/en/Appointments'}, vector=None, shard_key=None, order_value=None), ScoredPoint(id=764, version=1, score=0.49188316, payload={'text': '##Advanced grading methods\\n\\n===SECTION_BREAK===\\n\\n###Configuring an activity module to use advanced grading methods\\nChoosing the grading method in the activity settings form.\\nChoosing the grading method in the activity settings form.\\nChoosing the grading method in the activity settings form.', 'urls': 'https://docs.moodle.org/403/en/Advanced_grading_methods'}, vector=None, shard_key=None, order_value=None), ScoredPoint(id=4, version=0, score=0.48007247, payload={'text': '##360-degree feedback module\\n\\n###Activity configuration\\nSelect \"360° feedback\" from the activity chooser. Tick \"Anonymous\" if you would like to anonymise user responses after users have finalised their feedback to their peer. Choose which type of course participants will be participating in the activity. Save and display Click on \"Edit 360° feedback items\" to add/select questions for the questionnaire. There are 2 main question types: Rated questions and Comments. Rated questions get averaged, while Comments are... well, comments. Rated questions will have a five-level Likert item After you\\'re done setting up the questionnaire, make the 360° feedback activity available.\\nThe questions worth asking depend on what skills/attitudes/values/assets/deficiencies you want people to asses their peers/teachers/employers.', 'urls': 'https://docs.moodle.org/403/en/360-degree_feedback_module'}, vector=None, shard_key=None, order_value=None), ScoredPoint(id=485, version=0, score=0.39879054, payload={'text': \"##Survey settings\\n\\n###\\nNote: Survey is due to be removed from standard Moodle. See the discussion Survey Tool Deprecation .\\nNote: Moodle's Survey activity uses pre-made questions. If you wish to create your own questions, use the Feedback module or contributed Questionnaire module or Surveypro module .\\nThis page explores in more detail the settings for the Survey activity once you have added it to your course and also covers the Site administration settings.\\nNote that if you want to edit an existing survey, click the Edit link to its right and choose the action you wish to take, e.g. 'Edit settings'\", 'urls': 'https://docs.moodle.org/403/en/Adding/editing_a_survey'}, vector=None, shard_key=None, order_value=None), ScoredPoint(id=643, version=1, score=0.37399268, payload={'text': '##Admin alert block\\n\\n===SECTION_BREAK===', 'urls': 'https://docs.moodle.org/403/en/Admin_alert_block'}, vector=None, shard_key=None, order_value=None), ScoredPoint(id=32, version=0, score=0.36435786, payload={'text': '##AMOS manual\\n\\n===SECTION_BREAK===\\n\\n###Translation workflow\\nThe following data flow diagram illustrates how AMOS tools are used during the translation process.', 'urls': 'https://docs.moodle.org/403/en/AMOS'}, vector=None, shard_key=None, order_value=None), ScoredPoint(id=1, version=0, score=0.3426304, payload={'text': '##2D/3D structure display short answer\\n\\n===SECTION_BREAK===\\n\\n###Authors\\nThis plugin was developed at the Indiana University of Pennsylvania (IUP).  Neither IUP nor Carl LeBlond are affiliated with Chemaxon.\\n\\n\\n===SECTION_BREAK===\\n\\n###Requirements\\nThis plugin requires Marvin Applets from Chemaxon which can be downloaded from Vhttp://www.chemaxon.com/download/marvin-suite/#mapplets .  Download the full package and install it at your web servers root directory.\\n\\n\\n===SECTION_BREAK===\\n\\n###Examples\\nExample questions are provided as a Moodle xml file in the examples folder. (coming soon)', 'urls': 'https://docs.moodle.org/403/en/2D/3D_structure_display_short_answer'}, vector=None, shard_key=None, order_value=None), ScoredPoint(id=283, version=0, score=0.32824734, payload={'text': '##Add/edit certificate module\\n\\nA Watermark file can be placed in the background of a Certificate. A Watermark could be a specific logo, seal, crest etc. By default two Watermark Images are included, a sample school crest and a Fleur de lis .\\nThis option allows you to print a digital signature or print a line for a written signature on the Certificate.\\nThis option allows you to select a seal or logo to print on the Certificate from a repository of options. By default five seal images and an example logo image are available.', 'urls': 'https://docs.moodle.org/403/en/Add/edit_certificate_module'}, vector=None, shard_key=None, order_value=None), ScoredPoint(id=628, version=1, score=0.31596494, payload={'text': '##Adding question types to lesson\\n\\n===SECTION_BREAK===', 'urls': 'https://docs.moodle.org/403/en/Adding_question_types_to_lesson'}, vector=None, shard_key=None, order_value=None), ScoredPoint(id=38, version=0, score=0.27049336, payload={'text': '##AMOS manual\\n\\nFinally the last column contains the translation itself. If it is empty, the string is not translated yet, otherwise it displays the current translation. Click in the cell to turn it into the input editor. Insert the translation and click outside the cell to stage the translation. Note there is no submit button, the text is sent to the stage automatically in the background. You can see that the colour of the cell turned blue. Blue colour signalizes that the translation is currently staged.\\nYou have many options of how to use the strings filter. You can work on a single component or all missing strings at once. You can search for strings containing a given text (either in English or the translated string) etc. You can check for strings in older versions, too but those strings are read-only. They get automatically pulled into AMOS from the CVS repository of 1.x translations.', 'urls': 'https://docs.moodle.org/403/en/AMOS'}, vector=None, shard_key=None, order_value=None), ScoredPoint(id=381, version=0, score=0.2694204, payload={'text': \"##Chat settings\\n\\n===SECTION_BREAK===\\n\\n###Chat sessions\\n' Note: For courses involving users across different time zones, the time  set here will be adjusted to match the time zone of the user viewing it as long as they have set their local time in their profile.\\nDon't publish any chat times - there are no set times and students are welcome to chat at any time. No repeats - publish the specified time only - only  the Next chat  time will be published.  This could be used to schedule special events or meetings or simply to help learners identify a common time in which they can expect to find other learners in the chat room. At the same time every day - Daily chats are useful for scheduling daily office hours or work sessions with learners. At the same time every week --This setting will  schedule a chat for the same day and time every week, which could be useful for instance for meeting and reviewing key ideas and questions related to the week's content/assessment.\", 'urls': 'https://docs.moodle.org/403/en/Adding/editing_a_chat'}, vector=None, shard_key=None, order_value=None), ScoredPoint(id=524, version=1, score=0.26325014, payload={'text': \"##Workshop settings\\n\\n===SECTION_BREAK===\\n\\n###Assessment settings\\nAfter these workshop settings have been saved, Teachers can access further settings related to allocating assessments. See the section Setup phase .\\n\\n\\n===SECTION_BREAK===\\n\\n###Example submissions\\nIn some situations, it might be helpful to the students to see one or more examples of what they must submit. If you offer an example submission, you can choose whether students are required to assess them or if is optional. If they are required to assess the example submissions, then you can also decide whether they assess them before they submit their own work or afterwards, but before peer assessing.\\nYou can provide one or more example submissions in the setup phase by clicking the 'Add example submission' button below the table with phases.\\nNote: Assessments of the example submission are not counted when calculating the grade for assessment.\", 'urls': 'https://docs.moodle.org/403/en/Adding/updating_Workshop'}, vector=None, shard_key=None, order_value=None), ScoredPoint(id=930, version=1, score=0.26021275, payload={'text': '##Appointments\\n\\nWhen a user signs up other users, it is possible to overbook an appointment, effectively bypassing the waitlist mechanism.\\nA waitlist is a queue of users who wish to sign up for an appointment, where its capacity limit has already been reached (appointment status is Full ). If the waitlist facility has been enabled at the appointment level, potential attendees can add themselves to the waitlist via the Join waitlist button.\\nThe waitlist operates on a first-in, first-out basis. The first person who joins the waitlist will be at the top of the queue. Once a place becomes available, this first user will be moved to the list of attendees, and all users on the waitlist move up a spot.', 'urls': 'https://docs.moodle.org/403/en/Appointments'}, vector=None, shard_key=None, order_value=None), ScoredPoint(id=385, version=0, score=0.25854275, payload={'text': '##Chat settings\\n\\nThe particular settings for this method are: Refresh room - choose the number of seconds after which the room is refreshed Update method - choose how to update the chatroom - \"Keep alive\" or \"Stream\" strategy. Stream works better but your sever might not support it.\\nRefresh room - choose the number of seconds after which the room is refreshed Update method - choose how to update the chatroom - \"Keep alive\" or \"Stream\" strategy. Stream works better but your sever might not support it.\\nA daemon is a program that runs all the time in the background. In this case it\\'s a PHP script, listening to a particular port on your server, accepting and giving out chat information.If you intend to use the chat activity a lot, then you should consider using a chat server daemon to reduce server load.Its particular settings are: Server name Server IP address Server port Max users\\nServer name Server IP address Server port Max users\\nThen you need to start the chat daemon script from the command line:', 'urls': 'https://docs.moodle.org/403/en/Adding/editing_a_chat'}, vector=None, shard_key=None, order_value=None), ScoredPoint(id=35, version=0, score=0.25653166, payload={'text': \"##AMOS manual\\n\\nThe stage can be also saved so you can interrupt your work and continue next time you come back to the site. The stage is saved into the so-called 'stashing area'. The stashing area consists of stashes. A new stash is simply a snapshot copy of your current stage. AMOS automatically keeps one stash for you as a backup copy of your most recent stage. A stash can be submitted to the maintainers too.\", 'urls': 'https://docs.moodle.org/403/en/AMOS'}, vector=None, shard_key=None, order_value=None)])}"
      ]
     },
     "execution_count": 6,
     "metadata": {},
     "output_type": "execute_result"
    }
   ],
   "source": [
    "from qdrant_client.http.models import (\n",
    "    PointStruct, VectorParams, Distance, PayloadSchemaType\n",
    ")\n",
    "from qdrant_client.http.models import TextIndexParams, TokenizerType\n",
    "\n",
    "from qdrant_client import QdrantClient, models\n",
    "\n",
    "import numpy as np\n",
    "import pandas as pd\n",
    "import sys, json\n",
    "from pathlib import Path\n",
    "from qdrant_client.http.models import TextIndexParams\n",
    "from more_itertools import batched\n",
    "from tqdm.notebook import tqdm\n",
    "\n",
    "sys.path.append(str(Path.cwd().parent))\n",
    "from app import gen_queries, embed, rag_pipeline\n",
    "from config import LLM_NAME, ENCODER_NAME, COLLECTION_NAME, LLM_PORT, ENCODER_PORT, QDRANT_PORT\n",
    "\n",
    "from openai import OpenAI\n",
    "\n",
    "openai_api_key = \"EMPTY\"\n",
    "openai_api_base = f\"http://localhost:{ENCODER_PORT}/v1\"\n",
    "\n",
    "llm_client = OpenAI(\n",
    "    api_key=openai_api_key,\n",
    "    base_url=openai_api_base,\n",
    "    timeout=10000\n",
    ")\n",
    "\n",
    "q_client = QdrantClient(host=\"localhost\", port=QDRANT_PORT, check_compatibility=False, timeout=1000)\n",
    "Docs_Dense = \"Docs_Dense\"\n",
    "\n",
    "await rag_pipeline('what is this service about')"
   ]
  },
  {
   "cell_type": "markdown",
   "id": "ba18362b",
   "metadata": {},
   "source": [
    "# Создание индекса qudrant"
   ]
  },
  {
   "cell_type": "code",
   "execution_count": 4,
   "id": "4ac60390",
   "metadata": {},
   "outputs": [
    {
     "data": {
      "text/html": [
       "<div>\n",
       "<style scoped>\n",
       "    .dataframe tbody tr th:only-of-type {\n",
       "        vertical-align: middle;\n",
       "    }\n",
       "\n",
       "    .dataframe tbody tr th {\n",
       "        vertical-align: top;\n",
       "    }\n",
       "\n",
       "    .dataframe thead th {\n",
       "        text-align: right;\n",
       "    }\n",
       "</style>\n",
       "<table border=\"1\" class=\"dataframe\">\n",
       "  <thead>\n",
       "    <tr style=\"text-align: right;\">\n",
       "      <th></th>\n",
       "      <th>url</th>\n",
       "      <th>text</th>\n",
       "      <th>lengths</th>\n",
       "    </tr>\n",
       "  </thead>\n",
       "  <tbody>\n",
       "    <tr>\n",
       "      <th>0</th>\n",
       "      <td>https://docs.moodle.org/403/en/2D/3D_structure...</td>\n",
       "      <td>##2D/3D structure display short answer\\n\\n###O...</td>\n",
       "      <td>323</td>\n",
       "    </tr>\n",
       "    <tr>\n",
       "      <th>1</th>\n",
       "      <td>https://docs.moodle.org/403/en/2D/3D_structure...</td>\n",
       "      <td>##2D/3D structure display short answer\\n\\nYou ...</td>\n",
       "      <td>241</td>\n",
       "    </tr>\n",
       "    <tr>\n",
       "      <th>2</th>\n",
       "      <td>https://docs.moodle.org/403/en/2D/3D_structure...</td>\n",
       "      <td>##2D/3D structure display short answer\\n\\n===S...</td>\n",
       "      <td>59</td>\n",
       "    </tr>\n",
       "    <tr>\n",
       "      <th>3</th>\n",
       "      <td>https://docs.moodle.org/403/en/2D/3D_structure...</td>\n",
       "      <td>##2D/3D structure display short answer\\n\\n###F...</td>\n",
       "      <td>334</td>\n",
       "    </tr>\n",
       "    <tr>\n",
       "      <th>4</th>\n",
       "      <td>https://docs.moodle.org/403/en/2D/3D_structure...</td>\n",
       "      <td>##2D/3D structure display short answer\\n\\n===S...</td>\n",
       "      <td>177</td>\n",
       "    </tr>\n",
       "    <tr>\n",
       "      <th>...</th>\n",
       "      <td>...</td>\n",
       "      <td>...</td>\n",
       "      <td>...</td>\n",
       "    </tr>\n",
       "    <tr>\n",
       "      <th>44627</th>\n",
       "      <td>https://docs.moodle.org/403/en/wikindx</td>\n",
       "      <td>##Wikindx\\n\\n5. Re the citation/bibliographic ...</td>\n",
       "      <td>293</td>\n",
       "    </tr>\n",
       "    <tr>\n",
       "      <th>44628</th>\n",
       "      <td>https://docs.moodle.org/403/en/wikindx</td>\n",
       "      <td>##Wikindx\\n\\n.  In fact doubly easy if moodle ...</td>\n",
       "      <td>224</td>\n",
       "    </tr>\n",
       "    <tr>\n",
       "      <th>44629</th>\n",
       "      <td>https://docs.moodle.org/403/en/wikindx</td>\n",
       "      <td>##Wikindx\\n\\n6</td>\n",
       "      <td>12</td>\n",
       "    </tr>\n",
       "    <tr>\n",
       "      <th>44630</th>\n",
       "      <td>https://docs.moodle.org/403/en/wikindx</td>\n",
       "      <td>##Wikindx\\n\\n. What capabilities are there in ...</td>\n",
       "      <td>424</td>\n",
       "    </tr>\n",
       "    <tr>\n",
       "      <th>44631</th>\n",
       "      <td>https://docs.moodle.org/403/en/wikindx</td>\n",
       "      <td>##Wikindx\\n\\n.</td>\n",
       "      <td>12</td>\n",
       "    </tr>\n",
       "  </tbody>\n",
       "</table>\n",
       "<p>44632 rows × 3 columns</p>\n",
       "</div>"
      ],
      "text/plain": [
       "                                                     url  \\\n",
       "0      https://docs.moodle.org/403/en/2D/3D_structure...   \n",
       "1      https://docs.moodle.org/403/en/2D/3D_structure...   \n",
       "2      https://docs.moodle.org/403/en/2D/3D_structure...   \n",
       "3      https://docs.moodle.org/403/en/2D/3D_structure...   \n",
       "4      https://docs.moodle.org/403/en/2D/3D_structure...   \n",
       "...                                                  ...   \n",
       "44627             https://docs.moodle.org/403/en/wikindx   \n",
       "44628             https://docs.moodle.org/403/en/wikindx   \n",
       "44629             https://docs.moodle.org/403/en/wikindx   \n",
       "44630             https://docs.moodle.org/403/en/wikindx   \n",
       "44631             https://docs.moodle.org/403/en/wikindx   \n",
       "\n",
       "                                                    text  lengths  \n",
       "0      ##2D/3D structure display short answer\\n\\n###O...      323  \n",
       "1      ##2D/3D structure display short answer\\n\\nYou ...      241  \n",
       "2      ##2D/3D structure display short answer\\n\\n===S...       59  \n",
       "3      ##2D/3D structure display short answer\\n\\n###F...      334  \n",
       "4      ##2D/3D structure display short answer\\n\\n===S...      177  \n",
       "...                                                  ...      ...  \n",
       "44627  ##Wikindx\\n\\n5. Re the citation/bibliographic ...      293  \n",
       "44628  ##Wikindx\\n\\n.  In fact doubly easy if moodle ...      224  \n",
       "44629                                     ##Wikindx\\n\\n6       12  \n",
       "44630  ##Wikindx\\n\\n. What capabilities are there in ...      424  \n",
       "44631                                     ##Wikindx\\n\\n.       12  \n",
       "\n",
       "[44632 rows x 3 columns]"
      ]
     },
     "execution_count": 4,
     "metadata": {},
     "output_type": "execute_result"
    }
   ],
   "source": [
    "embs_table = pd.read_csv('../data/buffer_table.csv', index_col=0).reset_index()\n",
    "retrieve_texts = embs_table[\"text\"]\n",
    "embs_table"
   ]
  },
  {
   "cell_type": "code",
   "execution_count": 7,
   "id": "467c1e09",
   "metadata": {},
   "outputs": [
    {
     "data": {
      "application/vnd.jupyter.widget-view+json": {
       "model_id": "1f240695b4154c5090d371393e5150a0",
       "version_major": 2,
       "version_minor": 0
      },
      "text/plain": [
       "Processing batches:   0%|          | 0/44 [00:00<?, ?it/s]"
      ]
     },
     "metadata": {},
     "output_type": "display_data"
    }
   ],
   "source": [
    "all_responses = []\n",
    "tests_batches = list(batched(retrieve_texts.to_list(), 1024))\n",
    "for batch in tqdm(tests_batches, desc=\"Processing batches\"):\n",
    "    responses = llm_client.embeddings.create(\n",
    "        input=batch,\n",
    "        model=ENCODER_NAME,\n",
    "    )\n",
    "    all_responses.extend(responses.data)"
   ]
  },
  {
   "cell_type": "code",
   "execution_count": 10,
   "id": "149f848e",
   "metadata": {},
   "outputs": [],
   "source": [
    "texts = retrieve_texts.to_list()\n",
    "embeddings = list(map(lambda x: x.embedding, responses.data))\n",
    "ids = embs_table.index.to_list()\n",
    "urls = embs_table.url.to_list()"
   ]
  },
  {
   "cell_type": "code",
   "execution_count": 11,
   "id": "67c9f7bb",
   "metadata": {},
   "outputs": [
    {
     "data": {
      "application/vnd.jupyter.widget-view+json": {
       "model_id": "01499480cc92421badb4a0a2706b7efd",
       "version_major": 2,
       "version_minor": 0
      },
      "text/plain": [
       "  0%|          | 0/2 [00:00<?, ?it/s]"
      ]
     },
     "metadata": {},
     "output_type": "display_data"
    },
    {
     "data": {
      "text/plain": [
       "CollectionsResponse(collections=[CollectionDescription(name='Docs_BM25'), CollectionDescription(name='Docs_Dense')])"
      ]
     },
     "execution_count": 11,
     "metadata": {},
     "output_type": "execute_result"
    }
   ],
   "source": [
    "if q_client.collection_exists(Docs_Dense):\n",
    "    q_client.delete_collection(Docs_Dense)\n",
    "    \n",
    "q_client.create_collection(\n",
    "    collection_name=Docs_Dense,\n",
    "    vectors_config=VectorParams(size=2048, distance=Distance.COSINE),\n",
    ")\n",
    "\n",
    "points = [\n",
    "    PointStruct(id=idx, vector=vec, payload={\"text\": text, \"urls\": url})\n",
    "    for idx, vec, text, url in zip(ids, embeddings, texts, urls)\n",
    "]\n",
    "\n",
    "batches = list(batched(points, 512))\n",
    "for batch in tqdm(batches):\n",
    "    q_client.upsert(collection_name=Docs_Dense, points=list(batch), wait=True)\n",
    "\n",
    "q_client.create_payload_index(\n",
    "    collection_name=Docs_Dense,\n",
    "    field_name=\"text\",\n",
    "    field_schema=TextIndexParams( \n",
    "        type=\"text\",\n",
    "        tokenizer=TokenizerType.MULTILINGUAL,\n",
    "        lowercase=True,\n",
    "        min_token_len=2,\n",
    "        max_token_len=20,\n",
    "    ),\n",
    "    wait=True\n",
    ")\n",
    "\n",
    "q_client.get_collections()"
   ]
  }
 ],
 "metadata": {
  "kernelspec": {
   "display_name": "MoodleBase",
   "language": "python",
   "name": "python3"
  },
  "language_info": {
   "codemirror_mode": {
    "name": "ipython",
    "version": 3
   },
   "file_extension": ".py",
   "mimetype": "text/x-python",
   "name": "python",
   "nbconvert_exporter": "python",
   "pygments_lexer": "ipython3",
   "version": "3.11.11"
  }
 },
 "nbformat": 4,
 "nbformat_minor": 5
}
